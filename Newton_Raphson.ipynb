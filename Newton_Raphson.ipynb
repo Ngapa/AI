{
  "nbformat": 4,
  "nbformat_minor": 0,
  "metadata": {
    "colab": {
      "provenance": [],
      "collapsed_sections": [],
      "authorship_tag": "ABX9TyOZ7FBl+S287FPitS2zUWcz",
      "include_colab_link": true
    },
    "kernelspec": {
      "name": "python3",
      "display_name": "Python 3"
    },
    "language_info": {
      "name": "python"
    }
  },
  "cells": [
    {
      "cell_type": "markdown",
      "metadata": {
        "id": "view-in-github",
        "colab_type": "text"
      },
      "source": [
        "<a href=\"https://colab.research.google.com/github/Ngapa/AI/blob/main/Newton_Raphson.ipynb\" target=\"_parent\"><img src=\"https://colab.research.google.com/assets/colab-badge.svg\" alt=\"Open In Colab\"/></a>"
      ]
    },
    {
      "cell_type": "code",
      "execution_count": 6,
      "metadata": {
        "id": "MuurpX_M9ORC"
      },
      "outputs": [],
      "source": [
        "%matplotlib inline\n",
        "import numpy as np\n",
        "import matplotlib.pyplot as plt"
      ]
    },
    {
      "cell_type": "code",
      "source": [
        "# Mendefinisikan Persamaan F(x)\n",
        "def function_for_root(x):\n",
        "    a = 1.01\n",
        "    b = -3.04\n",
        "    c = 2.07\n",
        "    return a*x**2 + b*x + c"
      ],
      "metadata": {
        "id": "Bi3Pr4YU9Ydm"
      },
      "execution_count": 7,
      "outputs": []
    },
    {
      "cell_type": "code",
      "source": [
        "# Mendefinisikan Turunan Persaman F`(x)\n",
        "\n",
        "def derivative_for_root(x):\n",
        "    a = 1.01\n",
        "    b = -3.04\n",
        "    return 2*a*x + b"
      ],
      "metadata": {
        "id": "PVvPlVXD9cF4"
      },
      "execution_count": 8,
      "outputs": []
    },
    {
      "cell_type": "code",
      "source": [
        "# Mendefinisikan fungsi Kerja utama\n",
        "\n",
        "def newton_raphson_root_finding(f, dfdx, x_start, tol):\n",
        "    \n",
        "    #this function uses newton-raphson search to find the root\n",
        "    \n",
        "    #set the flag\n",
        "    flag = 1\n",
        "    \n",
        "    #set the maximum number of iterations\n",
        "    imax = 10000\n",
        "    \n",
        "    #start a counter\n",
        "    i = 0\n",
        "    \n",
        "    #define the new and old guesses\n",
        "    x_old = x_start\n",
        "    x_new = 0.0\n",
        "    y_new = 0.0\n",
        "    \n",
        "    #start the loop\n",
        "    while(flag):\n",
        "        \n",
        "        #make a new guess\n",
        "        x_new = x_old - f(x_old)/dfdx(x_old)\n",
        "        \n",
        "        #print out the iteration\n",
        "        print(\"\\nIterasi ke\", i, \"menghasilkan\", x_new)\n",
        "        \n",
        "        #if the abs value of the new function value\n",
        "        #is < tol, then stop\n",
        "        y_new = f(x_new)\n",
        "        if(np.fabs(y_new)<tol):\n",
        "            flag = 0 #stop the iteration\n",
        "        else:\n",
        "            #save the result\n",
        "            x_old = x_new\n",
        "            #increment the iteration\n",
        "            i += 1\n",
        "            \n",
        "        if(i>=imax):\n",
        "            print(\"Max iterations reached.\")\n",
        "            raise StopIteration('Stopping iterations after', i)\n",
        "            \n",
        "    #we are done!\n",
        "    return x_new"
      ],
      "metadata": {
        "id": "ESiJx26b9g1B"
      },
      "execution_count": 9,
      "outputs": []
    },
    {
      "cell_type": "code",
      "source": [
        "x_start = 3\n",
        "tolerance = 0.000001\n",
        "\n",
        "#print the initial guess\n",
        "print(\"x0: \", x_start, \"dengan batas toleransi\", tolerance)\n",
        "print(\"persamaannya: \",function_for_root(x_start))\n",
        "\n",
        "x_root = newton_raphson_root_finding(function_for_root,derivative_for_root,x_start,tolerance)\n",
        "y_root = function_for_root(x_root)\n",
        "\n",
        "s = \"\\nAkar ditemukan dengan nilai y(%f) = %f\" % (x_root,y_root)\n",
        "print(s)"
      ],
      "metadata": {
        "id": "Cgyo-WBE9j8r",
        "colab": {
          "base_uri": "https://localhost:8080/"
        },
        "outputId": "68540a34-0679-446a-8582-b58722955a03"
      },
      "execution_count": 14,
      "outputs": [
        {
          "output_type": "stream",
          "name": "stdout",
          "text": [
            "x0:  3 dengan batas toleransi 1e-06\n",
            "persamaannya:  2.0399999999999987\n",
            "\n",
            "Iterasi ke 0 menghasilkan 2.3245033112582787\n",
            "\n",
            "Iterasi ke 1 menghasilkan 2.046122365285912\n",
            "\n",
            "Iterasi ke 2 menghasilkan 1.9745222366182713\n",
            "\n",
            "Iterasi ke 3 menghasilkan 1.9690634558065294\n",
            "\n",
            "Iterasi ke 4 menghasilkan 1.9690313533977735\n",
            "\n",
            "Akar ditemukan dengan nilai y(1.969031) = 0.000000\n"
          ]
        }
      ]
    }
  ]
}
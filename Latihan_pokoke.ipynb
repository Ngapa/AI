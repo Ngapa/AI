{
  "nbformat": 4,
  "nbformat_minor": 0,
  "metadata": {
    "colab": {
      "name": "Latihan pokoke.ipynb",
      "provenance": [],
      "collapsed_sections": [],
      "authorship_tag": "ABX9TyNFAIOGNw8gfz8hvESokfte",
      "include_colab_link": true
    },
    "kernelspec": {
      "display_name": "Python 3",
      "name": "python3"
    },
    "language_info": {
      "name": "python"
    }
  },
  "cells": [
    {
      "cell_type": "markdown",
      "metadata": {
        "id": "view-in-github",
        "colab_type": "text"
      },
      "source": [
        "<a href=\"https://colab.research.google.com/github/Ngapa/belajar-machine-learning/blob/main/Latihan_pokoke.ipynb\" target=\"_parent\"><img src=\"https://colab.research.google.com/assets/colab-badge.svg\" alt=\"Open In Colab\"/></a>"
      ]
    },
    {
      "cell_type": "code",
      "metadata": {
        "id": "zQfX_V_cyAj0"
      },
      "source": [
        "import numpy as np\n",
        "import matplotlib.pyplot as plt\n",
        "\n",
        "import tensorflow as tf\n",
        "import tensorflow_datasets as tfds\n",
        "import tensorflow_hub as hub"
      ],
      "execution_count": null,
      "outputs": []
    },
    {
      "cell_type": "code",
      "metadata": {
        "id": "4jvcQvBn07di"
      },
      "source": [
        "def plot(examples, predictions=None):\n",
        "  # Get the images, labels, and optionally predictions\n",
        "  images = examples['image']\n",
        "  labels = examples['label']\n",
        "  batch_size = len(images)\n",
        "  if predictions is None:\n",
        "    predictions = batch_size * [None]\n",
        "\n",
        "  # Configure the layout of the grid\n",
        "  x = np.ceil(np.sqrt(batch_size))\n",
        "  y = np.ceil(batch_size / x)\n",
        "  fig = plt.figure(figsize=(x * 6, y * 7))\n",
        "\n",
        "  for i, (image, label, prediction) in enumerate(zip(images, labels, predictions)):\n",
        "    # Render the image\n",
        "    ax = fig.add_subplot(x, y, i+1)\n",
        "    ax.imshow(image, aspect='auto')\n",
        "    ax.grid(False)\n",
        "    ax.set_xticks([])\n",
        "    ax.set_yticks([])\n",
        "\n",
        "    # Display the label and optionally prediction\n",
        "    x_label = 'Label: ' + name_map[class_names[label]]\n",
        "    if prediction is not None:\n",
        "      x_label = 'Prediction: ' + name_map[class_names[prediction]] + '\\n' + x_label\n",
        "      ax.xaxis.label.set_color('green' if label == prediction else 'red')\n",
        "    ax.set_xlabel(x_label)\n",
        "\n",
        "  plt.show()"
      ],
      "execution_count": null,
      "outputs": []
    },
    {
      "cell_type": "code",
      "metadata": {
        "id": "FaSPAOWyyXMO"
      },
      "source": [
        "dataset, info = tfds.load('cassava', with_info=True)"
      ],
      "execution_count": null,
      "outputs": []
    },
    {
      "cell_type": "code",
      "metadata": {
        "id": "2DfP_WhH4OX-"
      },
      "source": [
        "info"
      ],
      "execution_count": null,
      "outputs": []
    },
    {
      "cell_type": "code",
      "metadata": {
        "id": "oXthW2eK4XZ7"
      },
      "source": [
        "# Extend the cassava dataset classes with 'unknown'\n",
        "class_names = info.features['label'].names + ['unknown']\n",
        "\n",
        "# Map the class names to human readable names\n",
        "name_map = dict(\n",
        "    cmd='Mosaic Disease',\n",
        "    cbb='Bacterial Blight',\n",
        "    cgm='Green Mite',\n",
        "    cbsd='Brown Streak Disease',\n",
        "    healthy='Healthy',\n",
        "    unknown='Unknown')\n",
        "\n",
        "print(len(class_names), 'classes:')\n",
        "print(class_names)\n",
        "print([name_map[name] for name in class_names])"
      ],
      "execution_count": null,
      "outputs": []
    },
    {
      "cell_type": "code",
      "metadata": {
        "id": "dZzIYqAv4au0"
      },
      "source": [
        "def preprocess_fn(data):\n",
        "  image = data['image']\n",
        "\n",
        "  # Normalize [0, 255] to [0, 1]\n",
        "  image = tf.cast(image, tf.float32)\n",
        "  image = image / 255.\n",
        "\n",
        "  # Resize the images to 224 x 224\n",
        "  image = tf.image.resize(image, (224, 224))\n",
        "\n",
        "  data['image'] = image\n",
        "  return data"
      ],
      "execution_count": null,
      "outputs": []
    },
    {
      "cell_type": "code",
      "metadata": {
        "id": "2wMVNlpZ4dK9"
      },
      "source": [
        "batch = dataset['validation'].map(preprocess_fn).batch(25).as_numpy_iterator()\n",
        "examples = next(batch)\n",
        "plot(examples)"
      ],
      "execution_count": null,
      "outputs": []
    },
    {
      "cell_type": "code",
      "metadata": {
        "id": "0RPMoqKw4gTT"
      },
      "source": [
        "classifier = hub.KerasLayer('https://tfhub.dev/google/cropnet/classifier/cassava_disease_V1/2')\n",
        "probabilities = classifier(examples['image'])\n",
        "predictions = tf.argmax(probabilities, axis=-1)"
      ],
      "execution_count": null,
      "outputs": []
    },
    {
      "cell_type": "code",
      "metadata": {
        "id": "L3FZbDJ94hn9"
      },
      "source": [
        "plot(examples, predictions)"
      ],
      "execution_count": null,
      "outputs": []
    },
    {
      "cell_type": "code",
      "metadata": {
        "id": "YAcQEtSo4k5j"
      },
      "source": [
        "DATASET = 'cassava' \n",
        "DATASET_SPLIT = 'test'\n",
        "BATCH_SIZE =  32\n",
        "MAX_EXAMPLES = 1000"
      ],
      "execution_count": null,
      "outputs": []
    },
    {
      "cell_type": "code",
      "metadata": {
        "id": "SUuOX9O34mTd"
      },
      "source": [
        "def label_to_unknown_fn(data):\n",
        "  data['label'] = 5  # Override label to unknown.\n",
        "  return data"
      ],
      "execution_count": null,
      "outputs": []
    },
    {
      "cell_type": "code",
      "metadata": {
        "id": "-rcgUk7N4oOh"
      },
      "source": [
        "# Preprocess the examples and map the image label to unknown for non-cassava datasets.\n",
        "ds = tfds.load(DATASET, split=DATASET_SPLIT).map(preprocess_fn).take(MAX_EXAMPLES)\n",
        "dataset_description = DATASET\n",
        "if DATASET != 'cassava':\n",
        "  ds = ds.map(label_to_unknown_fn)\n",
        "  dataset_description += ' (labels mapped to unknown)'\n",
        "ds = ds.batch(BATCH_SIZE)\n",
        "\n",
        "# Calculate the accuracy of the model\n",
        "metric = tf.keras.metrics.Accuracy()\n",
        "for examples in ds:\n",
        "  probabilities = classifier(examples['image'])\n",
        "  predictions = tf.math.argmax(probabilities, axis=-1)\n",
        "  labels = examples['label']\n",
        "  metric.update_state(labels, predictions)\n",
        "\n",
        "print('Accuracy on %s: %.2f' % (dataset_description, metric.result().numpy()))"
      ],
      "execution_count": null,
      "outputs": []
    }
  ]
}
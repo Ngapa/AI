{
 "cells": [
  {
   "cell_type": "code",
   "execution_count": 7,
   "id": "278f0b0a-113b-401e-a13b-b24e8d2d8203",
   "metadata": {},
   "outputs": [],
   "source": [
    "import matplotlib.pyplot as plt\n",
    "import numpy as np\n",
    "from sklearn import datasets, linear_model\n",
    "from sklearn.metrics import mean_squared_error, r2_score"
   ]
  },
  {
   "cell_type": "code",
   "execution_count": 8,
   "id": "a727d2e7",
   "metadata": {},
   "outputs": [],
   "source": [
    "# load diabetes Datasets\n",
    "diabetes_X, diabetes_y = datasets.load_diabetes(return_X_y=True)\n",
    "\n",
    "# use only one features\n",
    "diabetes_X = diabetes_X[:, np.newaxis, 2]\n",
    "\n",
    "# split data into training/testing sets\n",
    "diabetes_X_train = diabetes_y[:20]\n",
    "diabetes_X_test = diabetes_y[-20:]\n",
    "diabetes_y_train = diabetes_y[:20]\n",
    "diabetes_y_test = diabetes_y[-20:]\n",
    "\n"
   ]
  },
  {
   "cell_type": "code",
   "execution_count": 13,
   "id": "279859b2",
   "metadata": {},
   "outputs": [],
   "source": [
    "# Create linear regression object\n",
    "regr = linear_model.LinearRegression()\n",
    "\n",
    "# Train the model using the training sets\n",
    "regr.fit(diabetes_X_train, diabetes_y_train)\n",
    "\n",
    "# Make predictions using the testing set\n",
    "diabetes_y_pred = regr.predict(diabetes_X_test)"
   ]
  },
  {
   "cell_type": "code",
   "execution_count": null,
   "id": "a4c9678b",
   "metadata": {},
   "outputs": [],
   "source": [
    "# coefisien\n",
    "print(\"Coeffisien: \\n\", regr.coef_)\n",
    "# mean squared error\n",
    "print(\"Mean squared error: %.2f\" % mean_squared_error(diabetes_y_pred, diabetes_y_test))\n",
    "# The coefficient of determination: 1 is perfect prediction\n",
    "print(\"Coefficient of determination: %.2f\" % r2_score(diabetes_y_test, diabetes_y_pred))"
   ]
  },
  {
   "cell_type": "code",
   "execution_count": null,
   "id": "b3f1077f",
   "metadata": {},
   "outputs": [],
   "source": [
    "# Plot outputs\n",
    "plt.scatter(diabetes_X_test, diabetes_y_test, color=\"black\")\n",
    "plt.plot(diabetes_X_test, diabetes_y_pred, color=\"blue\", linewidth=3)\n",
    "\n",
    "plt.xticks(())\n",
    "plt.yticks(())\n",
    "\n",
    "plt.show()"
   ]
  }
 ],
 "metadata": {
  "kernelspec": {
   "display_name": "Python 3.8.10 ('venv': venv)",
   "language": "python",
   "name": "python3"
  },
  "language_info": {
   "codemirror_mode": {
    "name": "ipython",
    "version": 3
   },
   "file_extension": ".py",
   "mimetype": "text/x-python",
   "name": "python",
   "nbconvert_exporter": "python",
   "pygments_lexer": "ipython3",
   "version": "3.8.10"
  },
  "vscode": {
   "interpreter": {
    "hash": "a9219deb331106c3c6841ad5e251efdbe2f18ffd4fd8da14139411b6279bd456"
   }
  }
 },
 "nbformat": 4,
 "nbformat_minor": 5
}
